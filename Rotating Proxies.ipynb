{
 "cells": [
  {
   "cell_type": "code",
   "execution_count": 1,
   "id": "e7e8f7c8-1d76-4aa6-9afe-d62510f5b158",
   "metadata": {},
   "outputs": [],
   "source": [
    "import requests\n",
    "import random\n",
    "from bs4 import BeautifulSoup"
   ]
  },
  {
   "cell_type": "code",
   "execution_count": 2,
   "id": "debcf6ff-6d02-486f-9684-dae2d32f912a",
   "metadata": {},
   "outputs": [],
   "source": [
    "#Listing working proxies into a list\n",
    "proxy_list = []\n",
    "with open('validproxies.txt') as f:\n",
    "    for line in f:\n",
    "        proxy_list.append(line.strip())\n",
    "\n",
    "# Sites to scrape\n",
    "sites = ['https://magicpin.in/Hyderabad/Kukatpally/Restaurant/Tea-House/store/137a225/delivery/','https://magicpin.in/New-Delhi/Paharganj/Restaurant/Eatfit/store/61a193/delivery/']"
   ]
  },
  {
   "cell_type": "code",
   "execution_count": 3,
   "id": "5f79ec16-d145-47f4-a17d-25fb14624d49",
   "metadata": {},
   "outputs": [],
   "source": [
    "# Colleecting response of both pages\n",
    "data = []\n",
    "\n",
    "#Iterating over proxies over each site\n",
    "for site in sites:\n",
    "    #Rotating Proxies \n",
    "    for i in range(14): \n",
    "        #Choosing randomnly generated ips for to avoid any patterns\n",
    "        random_ip = random.choice(proxy_list)\n",
    "        try:\n",
    "            proxy = {\n",
    "                'http':'http://'+random_ip,\n",
    "                'https':'http://'+random_ip\n",
    "            }\n",
    "            response=requests.get(site, proxies=proxy)\n",
    "            response.status_code\n",
    "            \n",
    "            #Collecting valid responses\n",
    "            if response.status_code == 200:\n",
    "                data.append(response)\n",
    "                \n",
    "        except:\n",
    "            pass"
   ]
  },
  {
   "cell_type": "code",
   "execution_count": 4,
   "id": "b24f0537-5409-4be8-8679-a591161eb9c0",
   "metadata": {},
   "outputs": [
    {
     "name": "stdout",
     "output_type": "stream",
     "text": [
      "Tea House\n",
      "Kukatpally, Hyderabad.\n",
      "EatFit\n",
      "Paharganj, New Delhi.\n"
     ]
    }
   ],
   "source": [
    "#Create a list for collecting all menus and their respective details\n",
    "menu = []\n",
    "\n",
    "for r in data:        \n",
    "    #parser\n",
    "    soup = BeautifulSoup(r.content, 'html.parser')\n",
    "    \n",
    "    # Grabbing Store Name and Address\n",
    "    store = soup.find('h1',class_=\"v2\")\n",
    "    add = soup.find('h2',class_=\"merchant-address-details\")\n",
    "    \n",
    "    # Collecting all food and price tags\n",
    "    items = soup.find_all('a', class_ = 'itemName')\n",
    "    prices = soup.find_all('span', class_='itemPrice')\n",
    "    \n",
    "    StoreName = (store.text).strip()\n",
    "    print(StoreName)\n",
    "    Address = (add.text).strip()\n",
    "    print(Address)\n",
    "    \n",
    "    # Combining both lists into one\n",
    "    for item,price in zip(items,prices):\n",
    "        menu.append([item.text,price.text,StoreName,Address])        "
   ]
  },
  {
   "cell_type": "code",
   "execution_count": 5,
   "id": "55d50607-f848-4971-a81f-fffc2bcee81c",
   "metadata": {
    "scrolled": true
   },
   "outputs": [
    {
     "data": {
      "text/html": [
       "<div>\n",
       "<style scoped>\n",
       "    .dataframe tbody tr th:only-of-type {\n",
       "        vertical-align: middle;\n",
       "    }\n",
       "\n",
       "    .dataframe tbody tr th {\n",
       "        vertical-align: top;\n",
       "    }\n",
       "\n",
       "    .dataframe thead th {\n",
       "        text-align: right;\n",
       "    }\n",
       "</style>\n",
       "<table border=\"1\" class=\"dataframe\">\n",
       "  <thead>\n",
       "    <tr style=\"text-align: right;\">\n",
       "      <th></th>\n",
       "      <th>Menu</th>\n",
       "      <th>Prices</th>\n",
       "      <th>Store Name</th>\n",
       "      <th>Store Address</th>\n",
       "    </tr>\n",
       "  </thead>\n",
       "  <tbody>\n",
       "    <tr>\n",
       "      <th>0</th>\n",
       "      <td>Strawberry Lassi</td>\n",
       "      <td>₹59</td>\n",
       "      <td>Tea House</td>\n",
       "      <td>Kukatpally, Hyderabad.</td>\n",
       "    </tr>\n",
       "    <tr>\n",
       "      <th>1</th>\n",
       "      <td>Royal Dates Lassi</td>\n",
       "      <td>₹69</td>\n",
       "      <td>Tea House</td>\n",
       "      <td>Kukatpally, Hyderabad.</td>\n",
       "    </tr>\n",
       "    <tr>\n",
       "      <th>2</th>\n",
       "      <td>Immunity Tea Flask 500ml</td>\n",
       "      <td>₹159</td>\n",
       "      <td>Tea House</td>\n",
       "      <td>Kukatpally, Hyderabad.</td>\n",
       "    </tr>\n",
       "    <tr>\n",
       "      <th>3</th>\n",
       "      <td>Strawberry Lassi</td>\n",
       "      <td>₹59</td>\n",
       "      <td>Tea House</td>\n",
       "      <td>Kukatpally, Hyderabad.</td>\n",
       "    </tr>\n",
       "    <tr>\n",
       "      <th>4</th>\n",
       "      <td>Royal Dates Lassi</td>\n",
       "      <td>₹69</td>\n",
       "      <td>Tea House</td>\n",
       "      <td>Kukatpally, Hyderabad.</td>\n",
       "    </tr>\n",
       "    <tr>\n",
       "      <th>...</th>\n",
       "      <td>...</td>\n",
       "      <td>...</td>\n",
       "      <td>...</td>\n",
       "      <td>...</td>\n",
       "    </tr>\n",
       "    <tr>\n",
       "      <th>140</th>\n",
       "      <td>Mixed Fruit (200ml)</td>\n",
       "      <td>₹89</td>\n",
       "      <td>EatFit</td>\n",
       "      <td>Paharganj, New Delhi.</td>\n",
       "    </tr>\n",
       "    <tr>\n",
       "      <th>141</th>\n",
       "      <td>Lemonade (200ml)</td>\n",
       "      <td>₹75</td>\n",
       "      <td>EatFit</td>\n",
       "      <td>Paharganj, New Delhi.</td>\n",
       "    </tr>\n",
       "    <tr>\n",
       "      <th>142</th>\n",
       "      <td>Sugarcane (200ml)</td>\n",
       "      <td>₹62</td>\n",
       "      <td>EatFit</td>\n",
       "      <td>Paharganj, New Delhi.</td>\n",
       "    </tr>\n",
       "    <tr>\n",
       "      <th>143</th>\n",
       "      <td>Pomegranate (200ml)</td>\n",
       "      <td>₹107</td>\n",
       "      <td>EatFit</td>\n",
       "      <td>Paharganj, New Delhi.</td>\n",
       "    </tr>\n",
       "    <tr>\n",
       "      <th>144</th>\n",
       "      <td>Orange (200ml)</td>\n",
       "      <td>₹107</td>\n",
       "      <td>EatFit</td>\n",
       "      <td>Paharganj, New Delhi.</td>\n",
       "    </tr>\n",
       "  </tbody>\n",
       "</table>\n",
       "<p>145 rows × 4 columns</p>\n",
       "</div>"
      ],
      "text/plain": [
       "                         Menu  Prices Store Name           Store Address\n",
       "0            Strawberry Lassi    ₹59   Tea House  Kukatpally, Hyderabad.\n",
       "1           Royal Dates Lassi    ₹69   Tea House  Kukatpally, Hyderabad.\n",
       "2    Immunity Tea Flask 500ml   ₹159   Tea House  Kukatpally, Hyderabad.\n",
       "3            Strawberry Lassi    ₹59   Tea House  Kukatpally, Hyderabad.\n",
       "4           Royal Dates Lassi    ₹69   Tea House  Kukatpally, Hyderabad.\n",
       "..                        ...     ...        ...                     ...\n",
       "140       Mixed Fruit (200ml)    ₹89      EatFit   Paharganj, New Delhi.\n",
       "141          Lemonade (200ml)    ₹75      EatFit   Paharganj, New Delhi.\n",
       "142         Sugarcane (200ml)    ₹62      EatFit   Paharganj, New Delhi.\n",
       "143       Pomegranate (200ml)   ₹107      EatFit   Paharganj, New Delhi.\n",
       "144            Orange (200ml)   ₹107      EatFit   Paharganj, New Delhi.\n",
       "\n",
       "[145 rows x 4 columns]"
      ]
     },
     "execution_count": 5,
     "metadata": {},
     "output_type": "execute_result"
    }
   ],
   "source": [
    "import pandas as pd\n",
    "df = pd.DataFrame(menu, columns=['Menu','Prices','Store Name','Store Address'])\n",
    "df"
   ]
  },
  {
   "cell_type": "code",
   "execution_count": null,
   "id": "774d118f-ea46-4332-8686-cd9d1eb67876",
   "metadata": {},
   "outputs": [],
   "source": []
  },
  {
   "cell_type": "code",
   "execution_count": null,
   "id": "54e9f60e-55e4-4628-859b-1ea679d1efd5",
   "metadata": {},
   "outputs": [],
   "source": []
  },
  {
   "cell_type": "code",
   "execution_count": null,
   "id": "92706b46-918d-4407-9a3a-ac3269e408f9",
   "metadata": {},
   "outputs": [],
   "source": [
    "\n"
   ]
  },
  {
   "cell_type": "code",
   "execution_count": null,
   "id": "3cc68013-70b6-4558-8cdc-75faf932f78d",
   "metadata": {},
   "outputs": [],
   "source": []
  },
  {
   "cell_type": "code",
   "execution_count": null,
   "id": "a947161d-7e5f-4b1c-951e-f836faa922f3",
   "metadata": {},
   "outputs": [],
   "source": []
  }
 ],
 "metadata": {
  "kernelspec": {
   "display_name": "My Virtual Environment",
   "language": "python",
   "name": "myenv"
  },
  "language_info": {
   "codemirror_mode": {
    "name": "ipython",
    "version": 3
   },
   "file_extension": ".py",
   "mimetype": "text/x-python",
   "name": "python",
   "nbconvert_exporter": "python",
   "pygments_lexer": "ipython3",
   "version": "3.11.3"
  }
 },
 "nbformat": 4,
 "nbformat_minor": 5
}
